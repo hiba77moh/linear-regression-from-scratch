{
 "cells": [
  {
   "cell_type": "code",
   "execution_count": 64,
   "id": "e87021fd",
   "metadata": {},
   "outputs": [],
   "source": [
    "import numpy as np "
   ]
  },
  {
   "cell_type": "markdown",
   "id": "ffb93c99",
   "metadata": {},
   "source": [
    "# training data : \n",
    "\n",
    "| Size (sqft) | Number of Bedrooms  | Number of floors | Age of  Home | Price (1000s dollars)  |   \n",
    "| ----------------| ------------------- |----------------- |--------------|-------------- |  \n",
    "| 2104            | 5                   | 1                | 45           | 460           |  \n",
    "| 1416            | 3                   | 2                | 40           | 232           |  \n",
    "| 852             | 2                   | 1                | 35           | 178           |  \n",
    "\n"
   ]
  },
  {
   "cell_type": "code",
   "execution_count": 65,
   "id": "ecf30115",
   "metadata": {},
   "outputs": [
    {
     "name": "stdout",
     "output_type": "stream",
     "text": [
      "[[2104    5    1   45]\n",
      " [1416    3    2   40]\n",
      " [ 852    2    1   35]]\n",
      "(3, 4)\n",
      "[460 232 178]\n",
      "(3,)\n"
     ]
    }
   ],
   "source": [
    "# Training data: each row represents one house\n",
    "# Features (columns):\n",
    "# [0] Size in square feet\n",
    "# [1] Number of bedrooms\n",
    "# [2] Number of floors\n",
    "# [3] Age of home in years\n",
    "x_train = np.array([[2104, 5, 1, 45],\n",
    "                    [1416, 3, 2, 40],\n",
    "                    [852, 2, 1, 35]])\n",
    "\n",
    "# Target values: house prices in $1000's\n",
    "y_train = np.array([460, 232, 178])\n",
    "\n",
    "print(x_train)\n",
    "\n",
    "# Print the shape of the input feature matrix (m examples, n features)\n",
    "print(x_train.shape)\n",
    "\n",
    "print(y_train)\n",
    "\n",
    "# Print the shape of the output vector\n",
    "print(y_train.shape)\n"
   ]
  },
  {
   "cell_type": "code",
   "execution_count": 66,
   "id": "5b538b0d",
   "metadata": {},
   "outputs": [
    {
     "name": "stdout",
     "output_type": "stream",
     "text": [
      "(4,)\n"
     ]
    }
   ],
   "source": [
    "# Initialize model parameters \n",
    "\n",
    "# Initial bias term \n",
    "b_init = 785.1811367994083\n",
    "\n",
    "# Initial weights for each feature:\n",
    "# [0] Size in square feet\n",
    "# [1] Number of bedrooms\n",
    "# [2] Number of floors\n",
    "# [3] Age of home in years\n",
    "w_init = np.array([ 0.39133535, 18.75376741, -53.36032453, -26.42131618])\n",
    "\n",
    "print(w_init.shape)\n",
    "\n",
    "\n",
    "# Number of training examples (rows in x_train)\n",
    "m = x_train.shape[0]\n"
   ]
  },
  {
   "cell_type": "markdown",
   "id": "58590e74",
   "metadata": {},
   "source": [
    "# model prediction :\n",
    "$$ f_{\\mathbf{w},b}(\\mathbf{x}) =  w_0x_0 + w_1x_1 +... + w_{n-1}x_{n-1} + b \\tag{1}$$\n",
    "or in vector notation:\n",
    "$$ f_{\\mathbf{w},b}(\\mathbf{x}) = \\mathbf{w} \\cdot \\mathbf{x} + b  \\tag{2} $$ \n"
   ]
  },
  {
   "cell_type": "code",
   "execution_count": 67,
   "id": "1b8f0e18",
   "metadata": {},
   "outputs": [],
   "source": [
    "# Model prediction from scratch using linear regression\n",
    "\n",
    "def linear_regression_function(w, x, b):\n",
    "    \"\"\"    \n",
    "    Args:\n",
    "        x (ndarray): Shape (n,) example with multiple features\n",
    "        w (ndarray): Shape (n,) model weights (parameters)    \n",
    "        b (scalar): Bias term (intercept)    \n",
    "\n",
    "    Returns:\n",
    "        final_f (scalar): Predicted price\n",
    "    \"\"\"\n",
    "    n = x.shape[0]  # Number of features\n",
    "    f = 0         \n",
    "    for i in range(n):\n",
    "        f += x[i] * w[i]  \n",
    "    final_f = f + b       \n",
    "    return final_f        \n"
   ]
  },
  {
   "cell_type": "code",
   "execution_count": 68,
   "id": "30325ba0",
   "metadata": {},
   "outputs": [
    {
     "name": "stdout",
     "output_type": "stream",
     "text": [
      "The price for a house with 2104 sqft, 5 bedrooms, 1 floors, and 45 years old is: $460\n"
     ]
    }
   ],
   "source": [
    "# Example: choose the first training sample with 4 features\n",
    "x_sample = x_train[0, 0:4]  \n",
    "\n",
    "# Call the prediction function with initial weights and bias\n",
    "price = linear_regression_function(w_init, x_sample, b_init)\n",
    "\n",
    "# Output the prediction in a readable format\n",
    "print(f\"The price for a house with {x_train[0][0]} sqft, {x_train[0][1]} bedrooms, \"\n",
    "      f\"{x_train[0][2]} floors, and {x_train[0][3]} years old is: ${round(price)}\")"
   ]
  },
  {
   "cell_type": "code",
   "execution_count": 69,
   "id": "266eefdc",
   "metadata": {},
   "outputs": [],
   "source": [
    "# model prediction using np.dot() :\n",
    "def linear_regression_function2(w,x,b):\n",
    "    \"\"\"\n",
    "    Args:\n",
    "      x (ndarray): Shape (n,) example with multiple features\n",
    "      w (ndarray): Shape (n,) model parameters   \n",
    "      b (scalar):             model parameter \n",
    "      \n",
    "    Returns:\n",
    "        (scalar):  price\n",
    "    \"\"\"\n",
    "    return  np.dot(x, w) + b"
   ]
  },
  {
   "cell_type": "code",
   "execution_count": 70,
   "id": "29cd2e7f",
   "metadata": {},
   "outputs": [
    {
     "name": "stdout",
     "output_type": "stream",
     "text": [
      "The price for a house with 2104 sqft, 5 bedrooms, 1 floors, and 45 years old is: $460\n"
     ]
    }
   ],
   "source": [
    "# Example: choose the first training sample with 4 features\n",
    "x_sample = x_train[0, 0:4]  \n",
    "\n",
    "# Call the prediction function with initial weights and bias\n",
    "price = linear_regression_function2(w_init, x_sample, b_init)\n",
    "\n",
    "# Output the prediction in a readable format\n",
    "print(f\"The price for a house with {x_train[0][0]} sqft, {x_train[0][1]} bedrooms, \"\n",
    "      f\"{x_train[0][2]} floors, and {x_train[0][3]} years old is: ${round(price)}\")"
   ]
  },
  {
   "cell_type": "markdown",
   "id": "4722ef65",
   "metadata": {},
   "source": [
    "# cost function \n",
    "\n",
    "$$J(\\mathbf{w},b) = \\frac{1}{2m} \\sum\\limits_{i = 0}^{m-1} (f_{\\mathbf{w},b}(\\mathbf{x}^{(i)}) - y^{(i)})^2 \\tag{3}$$ \n",
    "where:\n",
    "$$ f_{\\mathbf{w},b}(\\mathbf{x}^{(i)}) = \\mathbf{w} \\cdot \\mathbf{x}^{(i)} + b  \\tag{4} $$ \n"
   ]
  },
  {
   "cell_type": "code",
   "execution_count": 71,
   "id": "88014dfd",
   "metadata": {},
   "outputs": [],
   "source": [
    "# cost function \n",
    "def cost_function (w,x,y,b):\n",
    "    \"\"\"\n",
    "    compute cost\n",
    "    Args:\n",
    "      X (ndarray (m,n)): Data, m examples with n features\n",
    "      y (ndarray (m,)) : target values\n",
    "      w (ndarray (n,)) : model parameters  \n",
    "      b (scalar)       : model parameter\n",
    "      \n",
    "    Returns:\n",
    "      cost (scalar): cost\n",
    "    \"\"\"\n",
    "    cost = 0 \n",
    "    for i in range(m): \n",
    "        y_hat = np.dot(x[i], w) + b\n",
    "        cost += (y_hat - y[i])**2\n",
    "    final_cost = (1 / (2 * m)) * cost \n",
    "    return final_cost"
   ]
  },
  {
   "cell_type": "code",
   "execution_count": 72,
   "id": "68a31dab",
   "metadata": {},
   "outputs": [
    {
     "name": "stdout",
     "output_type": "stream",
     "text": [
      "1.5578904330213735e-12\n"
     ]
    }
   ],
   "source": [
    "cost =cost_function(w_init,x_train,y_train,b_init)\n",
    "print(cost)"
   ]
  },
  {
   "cell_type": "markdown",
   "id": "3ff8bb01",
   "metadata": {},
   "source": [
    "\n",
    "$$\n",
    "\\begin{align}\n",
    "\\frac{\\partial J(\\mathbf{w},b)}{\\partial w_j}  &= \\frac{1}{m} \\sum\\limits_{i = 0}^{m-1} (f_{\\mathbf{w},b}(\\mathbf{x}^{(i)}) - y^{(i)})x_{j}^{(i)} \\tag{6}  \\\\\n",
    "\\frac{\\partial J(\\mathbf{w},b)}{\\partial b}  &= \\frac{1}{m} \\sum\\limits_{i = 0}^{m-1} (f_{\\mathbf{w},b}(\\mathbf{x}^{(i)}) - y^{(i)}) \\tag{7}\n",
    "\\end{align}\n",
    "$$\n"
   ]
  },
  {
   "cell_type": "code",
   "execution_count": 81,
   "id": "34e0ee79",
   "metadata": {},
   "outputs": [],
   "source": [
    "def compute_gradient(X, y, w, b): \n",
    "    m, n = X.shape  # X is of shape (m examples, n features)\n",
    "\n",
    "    # Initialize gradients for weights and bias\n",
    "    dj_dw = np.zeros((n,))  \n",
    "    dj_db = 0.              \n",
    "\n",
    "    # Loop over each training example\n",
    "    for i in range(m):                             \n",
    "        # Compute the error between prediction and actual value\n",
    "        cost = (np.dot(X[i], w) + b) - y[i]   \n",
    "\n",
    "        # Accumulate the gradient for each weight\n",
    "        for j in range(n):                         \n",
    "            dj_dw[j] += cost * X[i, j]  \n",
    "\n",
    "        # Accumulate the gradient for the bias\n",
    "        dj_db += cost                        \n",
    "\n",
    "    dj_dw = dj_dw / m                              \n",
    "    dj_db = dj_db / m                              \n",
    "\n",
    " \n",
    "    return dj_db, dj_dw\n"
   ]
  },
  {
   "cell_type": "code",
   "execution_count": 82,
   "id": "5caa1d6f",
   "metadata": {},
   "outputs": [
    {
     "name": "stdout",
     "output_type": "stream",
     "text": [
      "-1.6739251122999121e-06 [-2.72623577e-03 -6.27197263e-06 -2.21745571e-06 -6.92403379e-05]\n"
     ]
    }
   ],
   "source": [
    "# testing gradient derivative :\n",
    "dj_db, dj_dw =compute_gradient(x_train,y_train,w_init,b_init)\n",
    "print(dj_db, dj_dw)"
   ]
  },
  {
   "cell_type": "code",
   "execution_count": null,
   "id": "4a926b30",
   "metadata": {},
   "outputs": [],
   "source": []
  }
 ],
 "metadata": {
  "kernelspec": {
   "display_name": "base",
   "language": "python",
   "name": "python3"
  },
  "language_info": {
   "codemirror_mode": {
    "name": "ipython",
    "version": 3
   },
   "file_extension": ".py",
   "mimetype": "text/x-python",
   "name": "python",
   "nbconvert_exporter": "python",
   "pygments_lexer": "ipython3",
   "version": "3.12.4"
  }
 },
 "nbformat": 4,
 "nbformat_minor": 5
}
