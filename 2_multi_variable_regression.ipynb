{
 "cells": [
  {
   "cell_type": "code",
   "execution_count": 2,
   "id": "e87021fd",
   "metadata": {},
   "outputs": [],
   "source": [
    "import numpy as np \n",
    "import math\n",
    "import copy"
   ]
  },
  {
   "cell_type": "markdown",
   "id": "ffb93c99",
   "metadata": {},
   "source": [
    "# training data : \n",
    "\n",
    "| Size (sqft) | Number of Bedrooms  | Number of floors | Age of  Home | Price (1000s dollars)  |   \n",
    "| ----------------| ------------------- |----------------- |--------------|-------------- |  \n",
    "| 2104            | 5                   | 1                | 45           | 460           |  \n",
    "| 1416            | 3                   | 2                | 40           | 232           |  \n",
    "| 852             | 2                   | 1                | 35           | 178           |  \n",
    "\n"
   ]
  },
  {
   "cell_type": "code",
   "execution_count": 3,
   "id": "ecf30115",
   "metadata": {},
   "outputs": [
    {
     "name": "stdout",
     "output_type": "stream",
     "text": [
      "[[2104    5    1   45]\n",
      " [1416    3    2   40]\n",
      " [ 852    2    1   35]]\n",
      "(3, 4)\n",
      "[460 232 178]\n",
      "(3,)\n"
     ]
    }
   ],
   "source": [
    "# Training data: each row represents one house\n",
    "# Features (columns):\n",
    "# [0] Size in square feet\n",
    "# [1] Number of bedrooms\n",
    "# [2] Number of floors\n",
    "# [3] Age of home in years\n",
    "x_train = np.array([[2104, 5, 1, 45],\n",
    "                    [1416, 3, 2, 40],\n",
    "                    [852, 2, 1, 35]])\n",
    "\n",
    "# Target values: house prices in $1000's\n",
    "y_train = np.array([460, 232, 178])\n",
    "\n",
    "print(x_train)\n",
    "\n",
    "# Print the shape of the input feature matrix (m examples, n features)\n",
    "print(x_train.shape)\n",
    "\n",
    "print(y_train)\n",
    "\n",
    "# Print the shape of the output vector\n",
    "print(y_train.shape)\n"
   ]
  },
  {
   "cell_type": "code",
   "execution_count": 4,
   "id": "5b538b0d",
   "metadata": {},
   "outputs": [
    {
     "name": "stdout",
     "output_type": "stream",
     "text": [
      "(4,)\n",
      "[2104    5    1   45]\n"
     ]
    }
   ],
   "source": [
    "# Initialize model parameters \n",
    "\n",
    "# Initial bias term \n",
    "b_init = 785.1811367994083\n",
    "\n",
    "# Initial weights for each feature:\n",
    "# [0] Size in square feet\n",
    "# [1] Number of bedrooms\n",
    "# [2] Number of floors\n",
    "# [3] Age of home in years\n",
    "w_init = np.array([ 0.39133535, 18.75376741, -53.36032453, -26.42131618])\n",
    "\n",
    "print(w_init.shape)\n",
    "\n",
    "print(x_train[0])\n",
    "# Number of training examples (rows in x_train)\n",
    "m = x_train.shape[0]\n"
   ]
  },
  {
   "cell_type": "markdown",
   "id": "58590e74",
   "metadata": {},
   "source": [
    "# model prediction :\n",
    "$$ f_{\\mathbf{w},b}(\\mathbf{x}) =  w_0x_0 + w_1x_1 +... + w_{n-1}x_{n-1} + b \\tag{1}$$\n",
    "or in vector notation:\n",
    "$$ f_{\\mathbf{w},b}(\\mathbf{x}) = \\mathbf{w} \\cdot \\mathbf{x} + b  \\tag{2} $$ \n"
   ]
  },
  {
   "cell_type": "markdown",
   "id": "8283ee4c",
   "metadata": {},
   "source": [
    "$$\n",
    "\\begin{bmatrix}\n",
    "2104 & 5 & 1 & 45 \\\\\n",
    "1416 & 3 & 2 & 40 \\\\\n",
    "852 & 2 & 1 & 35\n",
    "\\end{bmatrix}\n",
    "\\cdot\n",
    "\\begin{bmatrix}\n",
    "0.39133535 \\\\\n",
    "18.75376741 \\\\\n",
    "-53.36032453 \\\\\n",
    "-26.42131618\n",
    "\\end{bmatrix}\n",
    "+\n",
    "785.1811367994083\n",
    "=\n",
    "\\begin{bmatrix}\n",
    "460.22 \\\\\n",
    "232.28 \\\\\n",
    "177.06\n",
    "\\end{bmatrix}\n",
    "$$\n"
   ]
  },
  {
   "cell_type": "code",
   "execution_count": 5,
   "id": "1b8f0e18",
   "metadata": {},
   "outputs": [],
   "source": [
    "# Model prediction from scratch using linear regression\n",
    "\n",
    "def linear_regression_function(w, x, b):\n",
    "    \"\"\"    \n",
    "    Args:\n",
    "        x (ndarray): Shape (n,) example with multiple features\n",
    "        w (ndarray): Shape (n,) model weights (parameters)    \n",
    "        b (scalar): Bias term (intercept)    \n",
    "\n",
    "    Returns:\n",
    "        final_f (scalar): Predicted price\n",
    "    \"\"\"\n",
    "    n = x.shape[0]  # Number of features\n",
    "    f = 0         \n",
    "    for i in range(n):\n",
    "        f += x[i] * w[i]  \n",
    "    final_f = f + b       \n",
    "    return final_f        \n"
   ]
  },
  {
   "cell_type": "code",
   "execution_count": null,
   "id": "30325ba0",
   "metadata": {},
   "outputs": [
    {
     "name": "stdout",
     "output_type": "stream",
     "text": [
      "[2104    5    1   45]\n",
      "The price for a house with 2104 sqft, 5 bedrooms, 1 floors, and 45 years old is: $460\n"
     ]
    }
   ],
   "source": [
    "# Example: choose the first training sample with 4 features\n",
    "x_sample = x_train[0]  \n",
    "\n",
    "# Call the prediction function with initial weights and bias\n",
    "price = linear_regression_function(w_init, x_sample, b_init)\n",
    "\n",
    "# Output the prediction in a readable format\n",
    "print(f\"The price for a house with {x_train[0][0]} sqft, {x_train[0][1]} bedrooms, \"\n",
    "      f\"{x_train[0][2]} floors, and {x_train[0][3]} years old is: ${round(price)}\")"
   ]
  },
  {
   "cell_type": "code",
   "execution_count": 7,
   "id": "266eefdc",
   "metadata": {},
   "outputs": [],
   "source": [
    "# model prediction using np.dot() :\n",
    "def linear_regression_function2(w,x,b):\n",
    "    \"\"\"\n",
    "    Args:\n",
    "      x (ndarray): Shape (n,) example with multiple features\n",
    "      w (ndarray): Shape (n,) model parameters   \n",
    "      b (scalar):             model parameter \n",
    "      \n",
    "    Returns:\n",
    "        (scalar):  price\n",
    "    \"\"\"\n",
    "    return  np.dot(x, w) + b"
   ]
  },
  {
   "cell_type": "code",
   "execution_count": 8,
   "id": "29cd2e7f",
   "metadata": {},
   "outputs": [
    {
     "name": "stdout",
     "output_type": "stream",
     "text": [
      "[2104    5    1   45]\n",
      "The price for a house with 2104 sqft, 5 bedrooms, 1 floors, and 45 years old is: $460\n"
     ]
    }
   ],
   "source": [
    "# Example: choose the first training sample with 4 features\n",
    "x_sample = x_train[0]\n",
    "print(x_sample)\n",
    "# Call the prediction function with initial weights and bias\n",
    "price = linear_regression_function2(w_init, x_sample, b_init)\n",
    "\n",
    "# Output the prediction in a readable format\n",
    "print(f\"The price for a house with {x_train[0][0]} sqft, {x_train[0][1]} bedrooms, \"\n",
    "      f\"{x_train[0][2]} floors, and {x_train[0][3]} years old is: ${round(price)}\")"
   ]
  },
  {
   "cell_type": "markdown",
   "id": "4722ef65",
   "metadata": {},
   "source": [
    "# cost function \n",
    "\n",
    "$$J(\\mathbf{w},b) = \\frac{1}{2m} \\sum\\limits_{i = 0}^{m-1} (f_{\\mathbf{w},b}(\\mathbf{x}^{(i)}) - y^{(i)})^2 \\tag{3}$$ \n",
    "where:\n",
    "$$ f_{\\mathbf{w},b}(\\mathbf{x}^{(i)}) = \\mathbf{w} \\cdot \\mathbf{x}^{(i)} + b  \\tag{4} $$ \n"
   ]
  },
  {
   "cell_type": "code",
   "execution_count": 9,
   "id": "88014dfd",
   "metadata": {},
   "outputs": [],
   "source": [
    "# cost function \n",
    "def cost_function (w,x,y,b):\n",
    "    \"\"\"\n",
    "    compute cost\n",
    "    Args:\n",
    "      X (ndarray (m,n)): Data, m examples with n features\n",
    "      y (ndarray (m,)) : target values\n",
    "      w (ndarray (n,)) : model parameters  \n",
    "      b (scalar)       : model parameter\n",
    "      \n",
    "    Returns:\n",
    "      cost (scalar): cost\n",
    "    \"\"\"\n",
    "    cost = 0 \n",
    "    for i in range(m): \n",
    "        y_hat = np.dot(x[i], w) + b\n",
    "        cost += (y_hat - y[i])**2\n",
    "    final_cost = (1 / (2 * m)) * cost \n",
    "    return final_cost"
   ]
  },
  {
   "cell_type": "code",
   "execution_count": 10,
   "id": "68a31dab",
   "metadata": {},
   "outputs": [
    {
     "name": "stdout",
     "output_type": "stream",
     "text": [
      "[[2.19689962e+11 2.70248435e+06 5.96619234e+05 1.10912816e+08]\n",
      " [9.96114521e+10 1.45147979e+06 9.74531514e+05 8.87208741e+07]\n",
      " [3.61410453e+10 9.74531514e+05 5.96619234e+05 6.90048327e+07]]\n"
     ]
    }
   ],
   "source": [
    "cost =cost_function(x_train,y_train,w_init,b_init)\n",
    "print(cost)"
   ]
  },
  {
   "cell_type": "markdown",
   "id": "3ff8bb01",
   "metadata": {},
   "source": [
    "# gradient derivatives\n",
    "$$\n",
    "\\begin{align}\n",
    "\\frac{\\partial J(\\mathbf{w},b)}{\\partial w_j}  &= \\frac{1}{m} \\sum\\limits_{i = 0}^{m-1} (f_{\\mathbf{w},b}(\\mathbf{x}^{(i)}) - y^{(i)})x_{j}^{(i)} \\tag{6}  \\\\\n",
    "\\frac{\\partial J(\\mathbf{w},b)}{\\partial b}  &= \\frac{1}{m} \\sum\\limits_{i = 0}^{m-1} (f_{\\mathbf{w},b}(\\mathbf{x}^{(i)}) - y^{(i)}) \\tag{7}\n",
    "\\end{align}\n",
    "$$\n"
   ]
  },
  {
   "cell_type": "code",
   "execution_count": 11,
   "id": "34e0ee79",
   "metadata": {},
   "outputs": [],
   "source": [
    "def gradient_derivative(X, y, w, b): \n",
    "    m, n = X.shape  # X is of shape (m examples, n features)\n",
    "\n",
    "    # Initialize gradients for weights and bias\n",
    "    dj_dw = np.zeros((n,))  \n",
    "    dj_db = 0.              \n",
    "\n",
    "    # Loop over each training example\n",
    "    for i in range(m):                             \n",
    "        # Compute the error between prediction and actual value\n",
    "        cost = (np.dot(X[i], w) + b) - y[i]   \n",
    "\n",
    "        # Accumulate the gradient for each weight\n",
    "        for j in range(n):                         \n",
    "            dj_dw[j] = dj_dw[j] + cost * X[i, j]  \n",
    "\n",
    "        # Accumulate the gradient for the bias\n",
    "        dj_db += cost                        \n",
    "\n",
    "    dj_dw = dj_dw / m                              \n",
    "    dj_db = dj_db / m                              \n",
    "\n",
    " \n",
    "    return dj_dw, dj_db"
   ]
  },
  {
   "cell_type": "code",
   "execution_count": 12,
   "id": "5caa1d6f",
   "metadata": {},
   "outputs": [
    {
     "name": "stdout",
     "output_type": "stream",
     "text": [
      "[-2.72623577e-03 -6.27197263e-06 -2.21745571e-06 -6.92403379e-05] -1.6739251122999121e-06\n"
     ]
    }
   ],
   "source": [
    "# testing gradient derivative :\n",
    "dj_db, dj_dw =gradient_derivative(x_train,y_train,w_init,b_init)\n",
    "print(dj_db, dj_dw)"
   ]
  },
  {
   "cell_type": "markdown",
   "id": "855a7c0e",
   "metadata": {},
   "source": [
    "# gradient_descent"
   ]
  },
  {
   "cell_type": "markdown",
   "id": "75cab319",
   "metadata": {},
   "source": [
    "$$\\begin{align*} \\text{repeat}&\\text{ until convergence:} \\; \\lbrace \\newline\\;\n",
    "& w_j = w_j -  \\alpha \\frac{\\partial J(\\mathbf{w},b)}{\\partial w_j} \\tag{5}  \\; & \\text{for j = 0..n-1}\\newline\n",
    "&b\\ \\ = b -  \\alpha \\frac{\\partial J(\\mathbf{w},b)}{\\partial b}  \\newline \\rbrace\n",
    "\\end{align*}$$\n"
   ]
  },
  {
   "cell_type": "code",
   "execution_count": 13,
   "id": "4a926b30",
   "metadata": {},
   "outputs": [],
   "source": [
    "def gradient_descent (w_in,b,a,iter,x,y):\n",
    "    \n",
    "    J_history = []\n",
    "    # stop condition \n",
    "    w = copy.deepcopy(w_in)  #avoid modifying global w within function\n",
    "\n",
    "    for i in range(iter):\n",
    "        dj_dw,dj_db=gradient_derivative(x, y, w, b)\n",
    "        w = w - a*dj_dw\n",
    "        b= b - a* dj_db\n",
    "\n",
    "        J_history.append( cost_function(x, y, w, b))\n",
    "\n",
    "        if i% math.ceil(iter / 10) == 0:\n",
    "            print(f\"Iteration {i}: Cost {J_history[-1]}   \")\n",
    "\n",
    "    return w,b,J_history\n",
    "        \n"
   ]
  },
  {
   "cell_type": "code",
   "execution_count": 14,
   "id": "e14ffd14",
   "metadata": {},
   "outputs": [
    {
     "name": "stdout",
     "output_type": "stream",
     "text": [
      "Iteration 0: Cost [[2.19206997e+11 1.23776493e+06 4.94809930e+04 1.00272284e+08]\n",
      " [9.92863106e+10 4.45550960e+05 1.97997976e+05 7.92273193e+07]\n",
      " [3.59452827e+10 1.97997976e+05 4.94809930e+04 6.06582544e+07]]   \n",
      "Iteration 100: Cost [[2.19207009e+11 1.23779468e+06 4.94869422e+04 1.00272552e+08]\n",
      " [9.92863190e+10 4.45568813e+05 1.98009878e+05 7.92275574e+07]\n",
      " [3.59452878e+10 1.98009878e+05 4.94869422e+04 6.06584627e+07]]   \n",
      "Iteration 200: Cost [[2.19207009e+11 1.23779441e+06 4.94868873e+04 1.00272550e+08]\n",
      " [9.92863189e+10 4.45568648e+05 1.98009768e+05 7.92275552e+07]\n",
      " [3.59452878e+10 1.98009768e+05 4.94868873e+04 6.06584608e+07]]   \n",
      "Iteration 300: Cost [[2.19207009e+11 1.23779414e+06 4.94868327e+04 1.00272547e+08]\n",
      " [9.92863189e+10 4.45568484e+05 1.98009659e+05 7.92275530e+07]\n",
      " [3.59452877e+10 1.98009659e+05 4.94868327e+04 6.06584589e+07]]   \n",
      "Iteration 400: Cost [[2.19207009e+11 1.23779386e+06 4.94867785e+04 1.00272545e+08]\n",
      " [9.92863188e+10 4.45568322e+05 1.98009550e+05 7.92275509e+07]\n",
      " [3.59452877e+10 1.98009550e+05 4.94867785e+04 6.06584570e+07]]   \n",
      "Iteration 500: Cost [[2.19207009e+11 1.23779360e+06 4.94867247e+04 1.00272542e+08]\n",
      " [9.92863187e+10 4.45568160e+05 1.98009442e+05 7.92275487e+07]\n",
      " [3.59452876e+10 1.98009442e+05 4.94867247e+04 6.06584551e+07]]   \n"
     ]
    },
    {
     "name": "stdout",
     "output_type": "stream",
     "text": [
      "Iteration 600: Cost [[2.19207009e+11 1.23779333e+06 4.94866712e+04 1.00272540e+08]\n",
      " [9.92863186e+10 4.45568000e+05 1.98009336e+05 7.92275466e+07]\n",
      " [3.59452876e+10 1.98009336e+05 4.94866712e+04 6.06584533e+07]]   \n",
      "Iteration 700: Cost [[2.19207009e+11 1.23779306e+06 4.94866182e+04 1.00272538e+08]\n",
      " [9.92863186e+10 4.45567840e+05 1.98009229e+05 7.92275445e+07]\n",
      " [3.59452875e+10 1.98009229e+05 4.94866182e+04 6.06584514e+07]]   \n",
      "Iteration 800: Cost [[2.19207009e+11 1.23779280e+06 4.94865654e+04 1.00272535e+08]\n",
      " [9.92863185e+10 4.45567682e+05 1.98009124e+05 7.92275423e+07]\n",
      " [3.59452875e+10 1.98009124e+05 4.94865654e+04 6.06584496e+07]]   \n",
      "Iteration 900: Cost [[2.19207008e+11 1.23779254e+06 4.94865131e+04 1.00272533e+08]\n",
      " [9.92863184e+10 4.45567525e+05 1.98009019e+05 7.92275402e+07]\n",
      " [3.59452874e+10 1.98009019e+05 4.94865131e+04 6.06584477e+07]]   \n"
     ]
    }
   ],
   "source": [
    "w_init = np.zeros(4)\n",
    "\n",
    "b_init = 0.\n",
    "alpha = 5.0e-7\n",
    "iteration = 1000\n",
    "\n",
    "w_final,b_final,J_history =gradient_descent(w_init,b_init,alpha,iteration,x_train,y_train)"
   ]
  },
  {
   "cell_type": "code",
   "execution_count": 15,
   "id": "3933c52b",
   "metadata": {},
   "outputs": [
    {
     "name": "stdout",
     "output_type": "stream",
     "text": [
      "b,w found by gradient descent: -0.00,[ 0.20396569  0.00374919 -0.0112487  -0.0658614 ] \n",
      "prediction: 426.19, target value: 460\n",
      "prediction: 286.17, target value: 232\n",
      "prediction: 171.47, target value: 178\n"
     ]
    }
   ],
   "source": [
    "print(f\"b,w found by gradient descent: {b_final:0.2f},{w_final} \")\n",
    "m,_ = x_train.shape\n",
    "for i in range(m):\n",
    "    print(f\"prediction: {np.dot(x_train[i], w_final) + b_final:0.2f}, target value: {y_train[i]}\")"
   ]
  },
  {
   "cell_type": "code",
   "execution_count": 16,
   "id": "27d09c94",
   "metadata": {},
   "outputs": [],
   "source": [
    "def predict_price (x):\n",
    "    return np.dot(w_final , x )+ b_final"
   ]
  },
  {
   "cell_type": "code",
   "execution_count": 17,
   "id": "1b968f51",
   "metadata": {},
   "outputs": [
    {
     "name": "stdout",
     "output_type": "stream",
     "text": [
      "The price for a house with 900 sqft, 2 bedrooms, 2 floors, and 40 years old is: 180.9174281591294$\n"
     ]
    }
   ],
   "source": [
    "x=np.array([900, 2, 2, 40])\n",
    "price =predict_price(x)\n",
    "print(f\"The price for a house with {x[0]} sqft, {x[1]} bedrooms, \"\n",
    "      f\"{x[2]} floors, and {x[3]} years old is: {(price)}$\")"
   ]
  }
 ],
 "metadata": {
  "kernelspec": {
   "display_name": "base",
   "language": "python",
   "name": "python3"
  },
  "language_info": {
   "codemirror_mode": {
    "name": "ipython",
    "version": 3
   },
   "file_extension": ".py",
   "mimetype": "text/x-python",
   "name": "python",
   "nbconvert_exporter": "python",
   "pygments_lexer": "ipython3",
   "version": "3.12.4"
  }
 },
 "nbformat": 4,
 "nbformat_minor": 5
}
