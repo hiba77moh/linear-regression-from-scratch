{
 "cells": [
  {
   "cell_type": "code",
   "execution_count": 1,
   "id": "e87021fd",
   "metadata": {},
   "outputs": [],
   "source": [
    "import numpy as np "
   ]
  },
  {
   "cell_type": "code",
   "execution_count": null,
   "id": "ecf30115",
   "metadata": {},
   "outputs": [
    {
     "name": "stdout",
     "output_type": "stream",
     "text": [
      "[[2104    5    1   45]\n",
      " [1416    3    2   40]\n",
      " [ 852    2    1   35]]\n",
      "(3, 4)\n",
      "[460 232 178]\n",
      "(3,)\n"
     ]
    }
   ],
   "source": [
    "# Training data: each row represents one house\n",
    "# Features (columns):\n",
    "# [0] Size in square feet\n",
    "# [1] Number of bedrooms\n",
    "# [2] Number of floors\n",
    "# [3] Age of home in years\n",
    "x_train = np.array([[2104, 5, 1, 45],\n",
    "                    [1416, 3, 2, 40],\n",
    "                    [852, 2, 1, 35]])\n",
    "\n",
    "# Target values: house prices in $1000's\n",
    "y_train = np.array([460, 232, 178])\n",
    "\n",
    "print(x_train)\n",
    "\n",
    "# Print the shape of the input feature matrix (m examples, n features)\n",
    "print(x_train.shape)\n",
    "\n",
    "print(y_train)\n",
    "\n",
    "# Print the shape of the output vector\n",
    "print(y_train.shape)\n"
   ]
  },
  {
   "cell_type": "code",
   "execution_count": 5,
   "id": "5b538b0d",
   "metadata": {},
   "outputs": [
    {
     "name": "stdout",
     "output_type": "stream",
     "text": [
      "(4,)\n"
     ]
    }
   ],
   "source": [
    "# Initialize model parameters \n",
    "\n",
    "# Initial bias term \n",
    "b_init = 785.1811367994083\n",
    "\n",
    "# Initial weights for each feature:\n",
    "# [0] Size in square feet\n",
    "# [1] Number of bedrooms\n",
    "# [2] Number of floors\n",
    "# [3] Age of home in years\n",
    "w_init = np.array([ 0.39133535, 18.75376741, -53.36032453, -26.42131618])\n",
    "\n",
    "print(w_init.shape)\n",
    "\n",
    "\n",
    "# Number of training examples (rows in x_train)\n",
    "m = x_train.shape[0]\n"
   ]
  },
  {
   "cell_type": "code",
   "execution_count": null,
   "id": "58590e74",
   "metadata": {},
   "outputs": [],
   "source": []
  }
 ],
 "metadata": {
  "kernelspec": {
   "display_name": "Python 3",
   "language": "python",
   "name": "python3"
  },
  "language_info": {
   "codemirror_mode": {
    "name": "ipython",
    "version": 3
   },
   "file_extension": ".py",
   "mimetype": "text/x-python",
   "name": "python",
   "nbconvert_exporter": "python",
   "pygments_lexer": "ipython3",
   "version": "3.10.0rc1"
  }
 },
 "nbformat": 4,
 "nbformat_minor": 5
}
