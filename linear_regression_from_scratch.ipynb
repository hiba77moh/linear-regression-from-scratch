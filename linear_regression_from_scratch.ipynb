{
 "cells": [
  {
   "cell_type": "code",
   "execution_count": 4,
   "id": "253147a3",
   "metadata": {},
   "outputs": [],
   "source": [
    "import numpy as np\n",
    "import matplotlib.pyplot as plt\n",
    "import math"
   ]
  },
  {
   "cell_type": "code",
   "execution_count": 5,
   "id": "939e9d59",
   "metadata": {},
   "outputs": [
    {
     "name": "stdout",
     "output_type": "stream",
     "text": [
      "[1.  1.2 1.4 1.6 1.8 2.  2.2 2.4 2.6 2.8 3. ]\n",
      "[300. 320. 340. 360. 380. 400. 420. 440. 460. 480. 500.]\n",
      "(1.0, 300.0)\n"
     ]
    }
   ],
   "source": [
    "# Features: house sizes in 1000 sqft\n",
    "x = np.array([1.0, 1.2, 1.4, 1.6, 1.8, 2.0, 2.2, 2.4, 2.6, 2.8, 3.0])\n",
    "\n",
    "# Targets : corresponding house prices in $1000s\n",
    "y = np.array([300.0, 320.0, 340.0, 360.0, 380.0, 400.0, 420.0, 440.0, 460.0, 480.0, 500.0])\n",
    "\n",
    "print(x)\n",
    "print(y)\n",
    "\n",
    "# the first (feature, target) pair\n",
    "print((x[0], y[0]))\n"
   ]
  },
  {
   "cell_type": "code",
   "execution_count": 6,
   "id": "6d095411",
   "metadata": {},
   "outputs": [
    {
     "name": "stdout",
     "output_type": "stream",
     "text": [
      "11\n",
      "11\n"
     ]
    }
   ],
   "source": [
    "# the number of training examples (data points)\n",
    "m= x.shape[0]\n",
    "\n",
    "# there is 2 ways : \n",
    "print(m)\n",
    "print(len(x))"
   ]
  },
  {
   "cell_type": "code",
   "execution_count": 7,
   "id": "b319f1c1",
   "metadata": {},
   "outputs": [
    {
     "data": {
      "image/png": "[encoded data removed]",
      "text/plain": [
       "<Figure size 640x480 with 1 Axes>"
      ]
     },
     "metadata": {},
     "output_type": "display_data"
    }
   ],
   "source": [
    "# Plot the data points \n",
    "plt.scatter(x, y, marker='x', c='b')\n",
    "plt.title(\"Housing Prices\")\n",
    "plt.ylabel('Price (in 1000s of dollars)')\n",
    "plt.xlabel('Size (1000 sqft)')\n",
    "plt.show()"
   ]
  },
  {
   "cell_type": "markdown",
   "id": "2da8059f",
   "metadata": {},
   "source": [
    "cost function formula :\n",
    "\n",
    "$$J(w,b) = \\frac{1}{2m} \\sum\\limits_{i = 0}^{m-1} (f_{w,b}(x^{(i)}) - y^{(i)})^2\\tag{2}$$ "
   ]
  },
  {
   "cell_type": "code",
   "execution_count": 8,
   "id": "4c859d71",
   "metadata": {},
   "outputs": [],
   "source": [
    "def cost_function(w, b):\n",
    "    '''    \n",
    "    Parameters:\n",
    "        w (float): weight of the model\n",
    "        b (float): bias of the model\n",
    "    \n",
    "    Returns:\n",
    "        final_cost (float): the cost (error) between predicted and actual values\n",
    "    '''\n",
    "    \n",
    "    cost = 0  # Initialize total cost\n",
    "    for i in range(m): \n",
    "        y_hat = w * x[i] + b             # Predicted value using current w and b\n",
    "        cost += (y_hat - y[i])**2        # Accumulate squared error for each example\n",
    "    final_cost = (1 / (2 * m)) * cost    \n",
    "    return final_cost\n"
   ]
  },
  {
   "cell_type": "code",
   "execution_count": 9,
   "id": "82fc63b1",
   "metadata": {},
   "outputs": [
    {
     "data": {
      "text/plain": [
       "5500.0"
      ]
     },
     "execution_count": 9,
     "metadata": {},
     "output_type": "execute_result"
    }
   ],
   "source": [
    "# test the cost_function\n",
    "cost_function(150,200)"
   ]
  },
  {
   "cell_type": "markdown",
   "id": "c392e313",
   "metadata": {},
   "source": [
    "\n",
    "derivative of gradient is defined as:\n",
    "$$\n",
    "\\begin{align}\n",
    "\\frac{\\partial J(w,b)}{\\partial w}  &= \\frac{1}{m} \\sum\\limits_{i = 0}^{m-1} (f_{w,b}(x^{(i)}) - y^{(i)})x^{(i)} \\tag{4}\\\\\n",
    "  \\frac{\\partial J(w,b)}{\\partial b}  &= \\frac{1}{m} \\sum\\limits_{i = 0}^{m-1} (f_{w,b}(x^{(i)}) - y^{(i)}) \\tag{5}\\\\\n",
    "\\end{align}\n",
    "$$\n",
    "\n"
   ]
  },
  {
   "cell_type": "code",
   "execution_count": 10,
   "id": "dd29ef94",
   "metadata": {},
   "outputs": [],
   "source": [
    "def gradient_derivative(w, b):\n",
    "    \"\"\"\n",
    "    \n",
    "    Parameters :\n",
    "        w (float): Current weight parameter\n",
    "        b (float): Current bias parameter\n",
    "        \n",
    "    Returns:\n",
    "        (dj_dw, dj_db) : gradient of the cost with respect to w and b\n",
    "    \"\"\"\n",
    "    \n",
    "    dj_dw = 0\n",
    "    dj_db = 0\n",
    "    \n",
    "    # Loop through all training examples\n",
    "    for i in range(m):  \n",
    "        # Compute prediction for current example\n",
    "        f_wb = w * x[i] + b \n",
    "        \n",
    "        # Compute gradient for curre\\nt example with respect to w\n",
    "        dj_dw_i = (f_wb - y[i]) * x[i] \n",
    "        \n",
    "        # Compute gradient for current example with respect to b\n",
    "        dj_db_i = f_wb - y[i] \n",
    "        \n",
    "        dj_db += dj_db_i\n",
    "        dj_dw += dj_dw_i \n",
    "    \n",
    "    dj_dw = dj_dw / m \n",
    "    dj_db = dj_db / m \n",
    "        \n",
    "    return dj_dw, dj_db\n"
   ]
  },
  {
   "cell_type": "code",
   "execution_count": 11,
   "id": "2f807a4d",
   "metadata": {},
   "outputs": [
    {
     "data": {
      "text/plain": [
       "(220.0, 100.0)"
      ]
     },
     "execution_count": 11,
     "metadata": {},
     "output_type": "execute_result"
    }
   ],
   "source": [
    "# test the compute_gradient\n",
    "gradient_derivative(150,200)"
   ]
  },
  {
   "cell_type": "code",
   "execution_count": 12,
   "id": "3be30a13",
   "metadata": {},
   "outputs": [],
   "source": [
    "# Gradient Descent implementation for linear regression\n",
    "def gradient_descent(w, b, a, iterations, compute_gradient, cost_function):\n",
    "    \"\"\"\n",
    "    Performs gradient descent to optimize parameters w and b.\n",
    "\n",
    "    Parameters:\n",
    "        w (float): initial weight\n",
    "        b (float): initial bias\n",
    "        a (float): learning rate (alpha)\n",
    "        iterations (int): number of iterations to run gradient descent\n",
    "        compute_gradient (function): function to compute gradients dj_dw, dj_db\n",
    "        cost_function (function): function to compute the cost\n",
    "\n",
    "    Returns:\n",
    "        w (float): optimized weight\n",
    "        b (float): optimized bias\n",
    "        J_history (list): cost value at each iteration\n",
    "        p_history (list): [w, b] values at each iteration\n",
    "    \"\"\"\n",
    "\n",
    "    J_history = []     # List to store cost at each iteration\n",
    "    p_history = []     # List to store parameter values at each iteration\n",
    "\n",
    "    for i in range(iterations):\n",
    "        # Compute gradients at current parameters\n",
    "        dj_dw, dj_db = compute_gradient(w, b)\n",
    "\n",
    "        # Update parameters using gradient descent rule\n",
    "        w = w - a * dj_dw\n",
    "        b = b - a * dj_db\n",
    "\n",
    "        # Save cost and parameters history\n",
    "        if i < 100000:  # Avoid memory issues with too many iterations\n",
    "            J_history.append(cost_function(w, b))\n",
    "            p_history.append([w, b])\n",
    "\n",
    "        # Print progress every 10% of total iterations\n",
    "        if i % math.ceil(iterations / 10) == 0:\n",
    "            print(f\"Iteration {i:4}: Cost {J_history[-1]:0.2e} \",\n",
    "                  f\"dj_dw: {dj_dw: 0.3e}, dj_db: {dj_db: 0.3e}  \",\n",
    "                  f\"w: {w: 0.3e}, b:{b: 0.5e}\")\n",
    "\n",
    "    return w, b, J_history, p_history  \n"
   ]
  },
  {
   "cell_type": "code",
   "execution_count": 13,
   "id": "5e5a0ceb",
   "metadata": {},
   "outputs": [
    {
     "name": "stdout",
     "output_type": "stream",
     "text": [
      "Iteration    0: Cost 7.36e+04  dj_dw: -8.400e+02, dj_db: -4.000e+02   w:  8.400e+00, b: 4.00000e+00\n",
      "Iteration 1000: Cost 1.62e+02  dj_dw:  2.075e+00, dj_db: -4.488e+00   w:  1.276e+02, b: 1.40299e+02\n",
      "Iteration 2000: Cost 3.62e+01  dj_dw:  9.789e-01, dj_db: -2.117e+00   w:  1.130e+02, b: 1.71841e+02\n",
      "Iteration 3000: Cost 8.04e+00  dj_dw:  4.617e-01, dj_db: -9.985e-01   w:  1.061e+02, b: 1.86718e+02\n",
      "Iteration 4000: Cost 1.79e+00  dj_dw:  2.178e-01, dj_db: -4.709e-01   w:  1.029e+02, b: 1.93735e+02\n",
      "Iteration 5000: Cost 3.98e-01  dj_dw:  1.027e-01, dj_db: -2.221e-01   w:  1.014e+02, b: 1.97045e+02\n",
      "Iteration 6000: Cost 8.86e-02  dj_dw:  4.845e-02, dj_db: -1.048e-01   w:  1.006e+02, b: 1.98606e+02\n",
      "Iteration 7000: Cost 1.97e-02  dj_dw:  2.285e-02, dj_db: -4.942e-02   w:  1.003e+02, b: 1.99343e+02\n",
      "Iteration 8000: Cost 4.38e-03  dj_dw:  1.078e-02, dj_db: -2.331e-02   w:  1.001e+02, b: 1.99690e+02\n",
      "Iteration 9000: Cost 9.75e-04  dj_dw:  5.084e-03, dj_db: -1.099e-02   w:  1.001e+02, b: 1.99854e+02\n",
      "(w,b) found by gradient descent: (100.0319,199.9310)\n"
     ]
    }
   ],
   "source": [
    "# initialize parameters\n",
    "w_init = 0\n",
    "b_init = 0\n",
    "iterations = 10000\n",
    "tmp_alpha = 1.0e-2\n",
    "\n",
    "w_final, b_final, J_hist, p_hist = gradient_descent (w_init,b_init,tmp_alpha,iterations, gradient_derivative,cost_function)\n",
    "\n",
    "\n",
    "print(f\"(w,b) found by gradient descent: ({w_final:8.4f},{b_final:8.4f})\")"
   ]
  },
  {
   "cell_type": "code",
   "execution_count": 14,
   "id": "081fe423",
   "metadata": {},
   "outputs": [],
   "source": [
    "def predict_price (x):\n",
    "    return w_final * x + b_final"
   ]
  },
  {
   "cell_type": "code",
   "execution_count": 31,
   "id": "64c45399",
   "metadata": {},
   "outputs": [
    {
     "name": "stdout",
     "output_type": "stream",
     "text": [
      "Predicted price for a 1.3k sqft house is $330k\n"
     ]
    }
   ],
   "source": [
    "house_size = 1.3\n",
    "prediction = predict_price(house_size)\n",
    "print(f\"Predicted price for a {house_size:.1f}k sqft house is ${round(prediction):,}k\")\n"
   ]
  },
  {
   "cell_type": "code",
   "execution_count": 33,
   "id": "53c75a13",
   "metadata": {},
   "outputs": [
    {
     "data": {
      "image/png": "[encoded data removed]",
      "text/plain": [
       "<Figure size 640x480 with 1 Axes>"
      ]
     },
     "metadata": {},
     "output_type": "display_data"
    }
   ],
   "source": [
    "# Plot our model prediction\n",
    "plt.scatter(house_size, prediction, c='b',label='Our Prediction')\n",
    "\n",
    "# Plot the data points\n",
    "plt.plot(x, y, c='r',label='Actual Values')\n",
    "\n",
    "plt.title(\"Housing Prices\")\n",
    "plt.ylabel('Price (in 1000s of dollars)')\n",
    "plt.xlabel('Size (1000 sqft)')\n",
    "plt.legend()\n",
    "plt.show()"
   ]
  },
  {
   "cell_type": "code",
   "execution_count": null,
   "id": "847c4b5f",
   "metadata": {},
   "outputs": [],
   "source": []
  }
 ],
 "metadata": {
  "kernelspec": {
   "display_name": "base",
   "language": "python",
   "name": "python3"
  },
  "language_info": {
   "codemirror_mode": {
    "name": "ipython",
    "version": 3
   },
   "file_extension": ".py",
   "mimetype": "text/x-python",
   "name": "python",
   "nbconvert_exporter": "python",
   "pygments_lexer": "ipython3",
   "version": "3.12.4"
  }
 },
 "nbformat": 4,
 "nbformat_minor": 5
}
