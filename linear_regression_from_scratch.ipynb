{
 "cells": [
  {
   "cell_type": "code",
   "execution_count": 4,
   "id": "253147a3",
   "metadata": {},
   "outputs": [],
   "source": [
    "import numpy as np\n",
    "import matplotlib.pyplot as plt"
   ]
  },
  {
   "cell_type": "code",
   "execution_count": 5,
   "id": "939e9d59",
   "metadata": {},
   "outputs": [
    {
     "name": "stdout",
     "output_type": "stream",
     "text": [
      "[1.  1.2 1.4 1.6 1.8 2.  2.2 2.4 2.6 2.8 3. ]\n",
      "[300. 320. 340. 360. 380. 400. 420. 440. 460. 480. 500.]\n",
      "(1.0, 300.0)\n"
     ]
    }
   ],
   "source": [
    "# Features: house sizes in 1000 sqft\n",
    "x = np.array([1.0, 1.2, 1.4, 1.6, 1.8, 2.0, 2.2, 2.4, 2.6, 2.8, 3.0])\n",
    "\n",
    "# Targets : corresponding house prices in $1000s\n",
    "y = np.array([300.0, 320.0, 340.0, 360.0, 380.0, 400.0, 420.0, 440.0, 460.0, 480.0, 500.0])\n",
    "\n",
    "print(x)\n",
    "print(y)\n",
    "\n",
    "# the first (feature, target) pair\n",
    "print((x[0], y[0]))\n"
   ]
  },
  {
   "cell_type": "code",
   "execution_count": 6,
   "id": "6d095411",
   "metadata": {},
   "outputs": [
    {
     "name": "stdout",
     "output_type": "stream",
     "text": [
      "11\n",
      "11\n"
     ]
    }
   ],
   "source": [
    "# the number of training examples (data points)\n",
    "m= x.shape[0]\n",
    "\n",
    "# there is 2 ways : \n",
    "print(m)\n",
    "print(len(x))"
   ]
  },
  {
   "cell_type": "code",
   "execution_count": 7,
   "id": "b319f1c1",
   "metadata": {},
   "outputs": [
    {
     "data": {
      "image/png": "[encoded data removed]",
      "text/plain": [
       "<Figure size 640x480 with 1 Axes>"
      ]
     },
     "metadata": {},
     "output_type": "display_data"
    }
   ],
   "source": [
    "# Plot the data points \n",
    "plt.scatter(x, y, marker='x', c='b')\n",
    "plt.title(\"Housing Prices\")\n",
    "plt.ylabel('Price (in 1000s of dollars)')\n",
    "plt.xlabel('Size (1000 sqft)')\n",
    "plt.show()"
   ]
  },
  {
   "cell_type": "markdown",
   "id": "2da8059f",
   "metadata": {},
   "source": [
    "cost function formula :\n",
    "\n",
    "$$J(w,b) = \\frac{1}{2m} \\sum\\limits_{i = 0}^{m-1} (f_{w,b}(x^{(i)}) - y^{(i)})^2\\tag{2}$$ "
   ]
  },
  {
   "cell_type": "code",
   "execution_count": 8,
   "id": "4c859d71",
   "metadata": {},
   "outputs": [],
   "source": [
    "def cost_function(w, b):\n",
    "    '''    \n",
    "    Parameters:\n",
    "        w (float): weight of the model\n",
    "        b (float): bias of the model\n",
    "    \n",
    "    Returns:\n",
    "        final_cost (float): the cost (error) between predicted and actual values\n",
    "    '''\n",
    "    \n",
    "    cost = 0  # Initialize total cost\n",
    "    for i in range(m): \n",
    "        y_hat = w * x[i] + b             # Predicted value using current w and b\n",
    "        cost += (y_hat - y[i])**2        # Accumulate squared error for each example\n",
    "    final_cost = (1 / (2 * m)) * cost    \n",
    "    return final_cost\n"
   ]
  },
  {
   "cell_type": "code",
   "execution_count": 9,
   "id": "82fc63b1",
   "metadata": {},
   "outputs": [
    {
     "data": {
      "text/plain": [
       "5500.0"
      ]
     },
     "execution_count": 9,
     "metadata": {},
     "output_type": "execute_result"
    }
   ],
   "source": [
    "# test the cost_function\n",
    "cost_function(150,200)"
   ]
  },
  {
   "cell_type": "markdown",
   "id": "c392e313",
   "metadata": {},
   "source": [
    "\n",
    "derivative of gradient is defined as:\n",
    "$$\n",
    "\\begin{align}\n",
    "\\frac{\\partial J(w,b)}{\\partial w}  &= \\frac{1}{m} \\sum\\limits_{i = 0}^{m-1} (f_{w,b}(x^{(i)}) - y^{(i)})x^{(i)} \\tag{4}\\\\\n",
    "  \\frac{\\partial J(w,b)}{\\partial b}  &= \\frac{1}{m} \\sum\\limits_{i = 0}^{m-1} (f_{w,b}(x^{(i)}) - y^{(i)}) \\tag{5}\\\\\n",
    "\\end{align}\n",
    "$$\n",
    "\n"
   ]
  },
  {
   "cell_type": "code",
   "execution_count": 14,
   "id": "dd29ef94",
   "metadata": {},
   "outputs": [],
   "source": [
    "def gradient_derivative(w, b):\n",
    "    \"\"\"\n",
    "    \n",
    "    Parameters :\n",
    "        w (float): Current weight parameter\n",
    "        b (float): Current bias parameter\n",
    "        \n",
    "    Returns:\n",
    "        (dj_dw, dj_db) : gradient of the cost with respect to w and b\n",
    "    \"\"\"\n",
    "    \n",
    "    dj_dw = 0\n",
    "    dj_db = 0\n",
    "    \n",
    "    # Loop through all training examples\n",
    "    for i in range(m):  \n",
    "        # Compute prediction for current example\n",
    "        f_wb = w * x[i] + b \n",
    "        \n",
    "        # Compute gradient for curre\\nt example with respect to w\n",
    "        dj_dw_i = (f_wb - y[i]) * x[i] \n",
    "        \n",
    "        # Compute gradient for current example with respect to b\n",
    "        dj_db_i = f_wb - y[i] \n",
    "        \n",
    "        dj_db += dj_db_i\n",
    "        dj_dw += dj_dw_i \n",
    "    \n",
    "    dj_dw = dj_dw / m \n",
    "    dj_db = dj_db / m \n",
    "        \n",
    "    return dj_dw, dj_db\n"
   ]
  },
  {
   "cell_type": "code",
   "execution_count": 15,
   "id": "2f807a4d",
   "metadata": {},
   "outputs": [
    {
     "data": {
      "text/plain": [
       "(220.0, 100.0)"
      ]
     },
     "execution_count": 15,
     "metadata": {},
     "output_type": "execute_result"
    }
   ],
   "source": [
    "# test the compute_gradient\n",
    "gradient_derivative(150,200)"
   ]
  },
  {
   "cell_type": "code",
   "execution_count": null,
   "id": "3be30a13",
   "metadata": {},
   "outputs": [],
   "source": []
  }
 ],
 "metadata": {
  "kernelspec": {
   "display_name": "base",
   "language": "python",
   "name": "python3"
  },
  "language_info": {
   "codemirror_mode": {
    "name": "ipython",
    "version": 3
   },
   "file_extension": ".py",
   "mimetype": "text/x-python",
   "name": "python",
   "nbconvert_exporter": "python",
   "pygments_lexer": "ipython3",
   "version": "3.12.4"
  }
 },
 "nbformat": 4,
 "nbformat_minor": 5
}
